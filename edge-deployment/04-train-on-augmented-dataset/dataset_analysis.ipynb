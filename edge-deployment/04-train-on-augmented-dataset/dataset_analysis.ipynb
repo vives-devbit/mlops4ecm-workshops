{
 "cells": [
  {
   "cell_type": "markdown",
   "id": "7e0c3658",
   "metadata": {},
   "source": [
    "### 🧮 Class Distribution Analysis\n",
    "\n",
    "In this notebook, you'll analyze the **class distribution** in the training dataset.\n",
    "Your goal is to count how many samples exist for each class and visualize the results.\n",
    "This helps detect **class imbalance** — which is common in real-world datasets!\n",
    "\n",
    "👉 You only need to complete one part: counting how many images there are for each class.\n"
   ]
  },
  {
   "cell_type": "code",
   "execution_count": null,
   "id": "d01cd7f0",
   "metadata": {},
   "outputs": [],
   "source": [
    "# 📦 Imports\n",
    "from data_utils import GroceryDataset, get_classes, TRAIN_CSV\n",
    "import matplotlib.pyplot as plt\n",
    "\n",
    "# 📂 Load class names and dataset\n",
    "class_names = get_classes()\n",
    "dataset = GroceryDataset(csv_file=TRAIN_CSV)\n",
    "\n",
    "# 📝 TASK: Count how many samples there are for each class\n",
    "# - Loop over the dataset\n",
    "# - Extract the label for each sample\n",
    "# - Count how often each label appears\n",
    "# - Store the result in a dictionary\n",
    "\n",
    "# ❗ Replace this with your own code:\n",
    "label_counts = {}  # TODO: fill this with counts per class\n",
    "\n",
    "for _, label in dataset:\n",
    "    if label in label_counts:\n",
    "        label_counts[label] += 1\n",
    "    else:\n",
    "        label_counts[label] = 1\n",
    "\n",
    "# ✅ After you're done, we’ll plot the class distribution\n",
    "\n",
    "# 🎨 Prepare data for plotting\n",
    "class_ids = sorted(label_counts.keys())\n",
    "counts = [label_counts[class_id] for class_id in class_ids]\n",
    "names = [class_names[class_id] for class_id in class_ids]\n",
    "\n",
    "# 📊 Plot the bar chart\n",
    "plt.figure(figsize=(12, 6))\n",
    "plt.bar(names, counts)\n",
    "plt.xticks(rotation=45, ha='right')\n",
    "plt.title(\"Class Distribution in Training Set\")\n",
    "plt.xlabel(\"Class\")\n",
    "plt.ylabel(\"Number of Samples\")\n",
    "plt.tight_layout()\n",
    "plt.show()\n"
   ]
  }
 ],
 "metadata": {
  "kernelspec": {
   "display_name": ".venv",
   "language": "python",
   "name": "python3"
  },
  "language_info": {
   "codemirror_mode": {
    "name": "ipython",
    "version": 3
   },
   "file_extension": ".py",
   "mimetype": "text/x-python",
   "name": "python",
   "nbconvert_exporter": "python",
   "pygments_lexer": "ipython3",
   "version": "3.11.2"
  }
 },
 "nbformat": 4,
 "nbformat_minor": 5
}
