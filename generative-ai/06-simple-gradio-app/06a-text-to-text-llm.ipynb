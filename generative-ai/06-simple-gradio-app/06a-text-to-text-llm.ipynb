{
 "cells": [
  {
   "cell_type": "markdown",
   "id": "7dcdd46f",
   "metadata": {},
   "source": [
    "### 🧠 Text-to-Text LLM with Gradio\n",
    "\n",
    "In this notebook, you'll build a **very simple Gradio app** that connects a text input box to a large language model running locally with Ollama.\n",
    "\n",
    "You'll learn how to:\n",
    "- Use Gradio to build a small web interface\n",
    "- Send user input to a function\n",
    "- Display the response from a large language model\n",
    "\n",
    "**🛠️ TODO**\n",
    "\n",
    "There's one line you need to fix.\n",
    "\n",
    "In the `messages` list sent to the LLM, complete the `{\"role\": \"user\", \"content\": ...}` dictionary so that it actually sends the user’s input (`prompt`) into the model.\n",
    "\n",
    "Hint: just pass the `prompt` variable as the value of `\"content\"`.\n",
    "\n",
    "When you're done, click **Run All** and try out your app!"
   ]
  },
  {
   "cell_type": "code",
   "execution_count": null,
   "id": "48295a1d",
   "metadata": {},
   "outputs": [],
   "source": [
    "import gradio as gr\n",
    "import ollama\n",
    "\n",
    "MODEL = \"gemma3:4b-it-qat\"\n",
    "\n",
    "def generate_response(prompt):\n",
    "    if not prompt.strip():\n",
    "        return \"Please enter a prompt.\"\n",
    "    \n",
    "    response = ollama.chat(\n",
    "        model=MODEL,\n",
    "        messages=[\n",
    "            {\"role\": \"system\", \"content\": \"You are a helpful and kind wizard.\"},\n",
    "            {\"role\": \"user\", \"content\": ...}  # TODO: pass the `prompt` here\n",
    "        ]\n",
    "    )\n",
    "    return response[\"message\"][\"content\"]\n",
    "\n",
    "gr.Interface(\n",
    "    fn=generate_response,\n",
    "    inputs=gr.Textbox(label=\"Enter a prompt\"),\n",
    "    outputs=gr.Textbox(label=\"LLM Response\"),\n",
    "    title=\"Text-to-Text LLM\",\n",
    "    description=\"Ask the language model a question or give it a task.\"\n",
    ").launch(server_name=\"0.0.0.0\", server_port=8080)"
   ]
  }
 ],
 "metadata": {
  "kernelspec": {
   "display_name": ".venv",
   "language": "python",
   "name": "python3"
  },
  "language_info": {
   "codemirror_mode": {
    "name": "ipython",
    "version": 3
   },
   "file_extension": ".py",
   "mimetype": "text/x-python",
   "name": "python",
   "nbconvert_exporter": "python",
   "pygments_lexer": "ipython3",
   "version": "3.11.2"
  }
 },
 "nbformat": 4,
 "nbformat_minor": 5
}
