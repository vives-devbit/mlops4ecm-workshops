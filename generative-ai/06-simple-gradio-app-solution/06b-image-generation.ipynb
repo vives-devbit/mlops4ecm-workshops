{
 "cells": [
  {
   "cell_type": "markdown",
   "id": "b340fdbb",
   "metadata": {},
   "source": [
    "### 🖼️ Text-to-Image with Gradio and Diffusion\n",
    "\n",
    "In this notebook, you'll use Gradio to build a small web app that turns a text prompt into an image using a **diffusion model**.\n",
    "\n",
    "You'll learn how to:\n",
    "- Take a prompt from a textbox\n",
    "- Generate an image using a pre-trained model\n",
    "- Display the result in a simple interface\n",
    "\n",
    "**🛠️ TODO**\n",
    "\n",
    "One line is missing: you need to set the number of **inference steps** when generating the image.\n",
    "\n",
    "Try a value like `20` and see how it affects the result.  \n",
    "When you're ready, run the app and try it out!"
   ]
  },
  {
   "cell_type": "code",
   "execution_count": null,
   "id": "66188058",
   "metadata": {},
   "outputs": [],
   "source": [
    "import gradio as gr\n",
    "from diffusers import StableDiffusion3Pipeline\n",
    "import torch\n",
    "\n",
    "pipe = StableDiffusion3Pipeline.from_pretrained(\n",
    "    \"ckpt/stable-diffusion-3.5-medium\",\n",
    "    torch_dtype=torch.bfloat16\n",
    ").to(\"cuda\")\n",
    "\n",
    "def generate_image(prompt):\n",
    "    if not prompt.strip():\n",
    "        return None\n",
    "    \n",
    "    system_prompt = \"3D Pixar animation style.\"\n",
    "    \n",
    "    image = pipe(\n",
    "        prompt=f\"{system_prompt} {prompt}\",\n",
    "        num_inference_steps=20,\n",
    "        guidance_scale=5,\n",
    "        width=512,\n",
    "        height=512\n",
    "    ).images[0]\n",
    "    \n",
    "    return image\n",
    "\n",
    "gr.Interface(\n",
    "    fn=generate_image,\n",
    "    inputs=gr.Textbox(label=\"Enter image description\"),\n",
    "    outputs=gr.Image(label=\"Generated Image\"),\n",
    "    title=\"Text-to-Image Generator\",\n",
    "    description=\"Describe a scene and see it generated with AI.\"\n",
    ").launch(server_name=\"0.0.0.0\", server_port=8080)"
   ]
  }
 ],
 "metadata": {
  "kernelspec": {
   "display_name": ".venv",
   "language": "python",
   "name": "python3"
  },
  "language_info": {
   "codemirror_mode": {
    "name": "ipython",
    "version": 3
   },
   "file_extension": ".py",
   "mimetype": "text/x-python",
   "name": "python",
   "nbconvert_exporter": "python",
   "pygments_lexer": "ipython3",
   "version": "3.11.2"
  }
 },
 "nbformat": 4,
 "nbformat_minor": 5
}
