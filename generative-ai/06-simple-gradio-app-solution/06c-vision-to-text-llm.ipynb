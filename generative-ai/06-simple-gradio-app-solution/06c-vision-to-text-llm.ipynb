{
 "cells": [
  {
   "cell_type": "markdown",
   "id": "7bae05c2",
   "metadata": {},
   "source": [
    "### 🖼️➡️📝 Image-to-Text with Gradio and a Vision LLM\n",
    "\n",
    "In this notebook, you'll build a Gradio app that lets you upload an image and ask a question about it.  \n",
    "The model will analyze the image and respond using natural language.\n",
    "\n",
    "You'll learn how to:\n",
    "- Upload an image in Gradio\n",
    "- Pass both image and text to a vision-enabled language model\n",
    "- Display the model's response in the interface\n",
    "\n",
    "**🛠️ TODO**\n",
    "\n",
    "The image file needs to be passed into the model — but right now, the code just has a placeholder.\n",
    "\n",
    "Find the line with `\"images\": [...]` and replace it with `[\"image.jpg\"]` so that the model actually receives the image when generating its response."
   ]
  },
  {
   "cell_type": "code",
   "execution_count": null,
   "id": "fb932f05",
   "metadata": {},
   "outputs": [],
   "source": [
    "import gradio as gr\n",
    "import ollama\n",
    "from PIL import Image\n",
    "\n",
    "MODEL = \"gemma3:4b-it-qat\"\n",
    "\n",
    "def analyze_image(image, prompt):\n",
    "    if image is None:\n",
    "        return \"Please upload an image.\"\n",
    "    \n",
    "    # Convert image to format expected by ollama\n",
    "    image = image.convert(\"RGB\")\n",
    "    image.save(\"image.jpg\")\n",
    "    \n",
    "    response = ollama.chat(\n",
    "        model=MODEL,\n",
    "        messages=[\n",
    "            {\"role\": \"system\", \"content\": \"You are a helpful and kind wizard, that gives his opinion about images.\"},\n",
    "            {\"role\": \"user\", \"content\": prompt, \"images\": [\"image.jpg\"]}\n",
    "        ],\n",
    "    )\n",
    "    return response[\"message\"][\"content\"]\n",
    "\n",
    "gr.Interface(\n",
    "    fn=analyze_image,\n",
    "    inputs=[\n",
    "        gr.Image(type=\"pil\", label=\"Upload Image\"),\n",
    "        gr.Textbox(label=\"What do you want to know about this image? (optional)\")\n",
    "    ],\n",
    "    outputs=gr.Textbox(label=\"Vision Model Output\"),\n",
    "    title=\"Image-to-Text (Vision LLM)\",\n",
    "    description=\"Ask a question about the uploaded image.\"\n",
    ").launch(server_name=\"0.0.0.0\", server_port=8080)"
   ]
  }
 ],
 "metadata": {
  "kernelspec": {
   "display_name": ".venv",
   "language": "python",
   "name": "python3"
  },
  "language_info": {
   "codemirror_mode": {
    "name": "ipython",
    "version": 3
   },
   "file_extension": ".py",
   "mimetype": "text/x-python",
   "name": "python",
   "nbconvert_exporter": "python",
   "pygments_lexer": "ipython3",
   "version": "3.11.2"
  }
 },
 "nbformat": 4,
 "nbformat_minor": 5
}
