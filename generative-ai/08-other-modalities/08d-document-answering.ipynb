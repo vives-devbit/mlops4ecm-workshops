{
 "cells": [
  {
   "cell_type": "markdown",
   "id": "c3252fa1",
   "metadata": {},
   "source": [
    "# 📄 Document Question Answering\n",
    "\n",
    "This notebook lets you upload a **document image (JPG, PNG)** and ask natural language questions about it — for example:\n",
    "\n",
    "- “What is the invoice number?”\n",
    "- “What is the postal code?”\n",
    "- “What are the 2020 net sales?”\n",
    "\n",
    "The app uses a model based on **LayoutLM** (`impira/layoutlm-document-qa`) to extract answers from structured documents.\n",
    "\n",
    "⚠️ This works best on documents where the layout matters — such as **invoices, receipts, forms, and tables**. It's not meant for plain text documents (in that case, just use a normal language model).\n",
    "\n",
    "Once uploaded, the model returns an answer and its confidence score."
   ]
  },
  {
   "cell_type": "code",
   "execution_count": null,
   "id": "e4fc522b",
   "metadata": {},
   "outputs": [],
   "source": [
    "import gradio as gr\n",
    "from transformers import pipeline\n",
    "\n",
    "# Load the document QA model\n",
    "nlp = pipeline(\n",
    "    \"document-question-answering\",\n",
    "    model=\"impira/layoutlm-document-qa\",\n",
    ")\n",
    "\n",
    "def answer_doc(file, question):\n",
    "    if file is None or not question.strip():\n",
    "        return \"Please upload a document and enter a question.\"\n",
    "\n",
    "    try:\n",
    "        output = nlp(file.name, question)[0]\n",
    "        return f\"**Answer:** {output['answer']}\\n\\n*(Confidence: {output['score']:.2f})*\"\n",
    "    except Exception as e:\n",
    "        return f\"❌ Error: {e}\"\n",
    "\n",
    "gr.Interface(\n",
    "    fn=answer_doc,\n",
    "    inputs=[\n",
    "        gr.File(label=\"📎 Upload Document (PNG or JPG)\"),\n",
    "        gr.Textbox(label=\"❓ Your Question\", placeholder=\"e.g. What is the invoice number?\")\n",
    "    ],\n",
    "    outputs=gr.Markdown(),\n",
    "    title=\"📄 Document Question Answering\",\n",
    "    description=\"Ask questions about documents like invoices, forms, and financial statements. The model extracts the answer from layout-aware documents.\",\n",
    "    allow_flagging=\"never\"\n",
    ").launch(server_name=\"0.0.0.0\", server_port=8080, share=True)\n"
   ]
  }
 ],
 "metadata": {
  "kernelspec": {
   "display_name": ".venv",
   "language": "python",
   "name": "python3"
  },
  "language_info": {
   "codemirror_mode": {
    "name": "ipython",
    "version": 3
   },
   "file_extension": ".py",
   "mimetype": "text/x-python",
   "name": "python",
   "nbconvert_exporter": "python",
   "pygments_lexer": "ipython3",
   "version": "3.11.2"
  }
 },
 "nbformat": 4,
 "nbformat_minor": 5
}
