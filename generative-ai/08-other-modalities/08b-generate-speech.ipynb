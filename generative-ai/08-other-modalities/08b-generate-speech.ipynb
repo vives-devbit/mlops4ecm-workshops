{
 "cells": [
  {
   "cell_type": "markdown",
   "id": "e091a167",
   "metadata": {},
   "source": [
    "# 🗣️ Kokoro Text-to-Speech Demo\n",
    "\n",
    "This notebook lets you generate synthetic speech using the Kokoro TTS engine.  \n",
    "You can enter any text, pick a voice from the list, and hear it spoken back to you.\n",
    "\n",
    "It's very easy to use — just run the code block below, type your text, choose a voice, and hit **Submit**."
   ]
  },
  {
   "cell_type": "code",
   "execution_count": null,
   "id": "47cedb7a",
   "metadata": {},
   "outputs": [],
   "source": [
    "import gradio as gr\n",
    "from kokoro import KPipeline\n",
    "import soundfile as sf\n",
    "import tempfile\n",
    "\n",
    "# List of supported voices\n",
    "SUPPORTED_VOICES = [\n",
    "    \"af_heart\", \"af_bella\", \"af_nicole\", \"af_sarah\", \"af_sky\",\n",
    "    \"bf_emma\", \"bf_isabella\", \"bm_george\", \"bm_lewis\"\n",
    "]\n",
    "\n",
    "def generate_speech(text, voice):\n",
    "    if not text.strip():\n",
    "        return \"Please enter some text.\", None\n",
    "\n",
    "    pipeline = KPipeline(lang_code='a')\n",
    "    generator = pipeline(text, voice=voice)\n",
    "\n",
    "    for _, _, audio in generator:\n",
    "        with tempfile.NamedTemporaryFile(delete=False, suffix=\".wav\") as tmpfile:\n",
    "            sf.write(tmpfile.name, audio, 24000)\n",
    "            return \"Here's your speech:\", tmpfile.name\n",
    "\n",
    "    return \"No audio generated.\", None\n",
    "\n",
    "gr.Interface(\n",
    "    fn=generate_speech,\n",
    "    inputs=[\n",
    "        gr.Textbox(lines=4, label=\"Text\", placeholder=\"Enter text to generate...\"),\n",
    "        gr.Dropdown(choices=SUPPORTED_VOICES, value=\"af_heart\", label=\"Voice\")\n",
    "    ],\n",
    "    outputs=[\n",
    "        gr.Text(label=\"Status\"),\n",
    "        gr.Audio(label=\"Generated Speech\")\n",
    "    ],\n",
    "    title=\"🗣️ Kokoro Text‑to‑Speech with Voice Selection\",\n",
    "    description=\"Type text, choose a voice, and hear Kokoro speak. Language is auto‑detected from the voice.\"\n",
    ").launch(server_name=\"0.0.0.0\", server_port=8080, share=True)"
   ]
  }
 ],
 "metadata": {
  "kernelspec": {
   "display_name": ".venv",
   "language": "python",
   "name": "python3"
  },
  "language_info": {
   "codemirror_mode": {
    "name": "ipython",
    "version": 3
   },
   "file_extension": ".py",
   "mimetype": "text/x-python",
   "name": "python",
   "nbconvert_exporter": "python",
   "pygments_lexer": "ipython3",
   "version": "3.11.2"
  }
 },
 "nbformat": 4,
 "nbformat_minor": 5
}
