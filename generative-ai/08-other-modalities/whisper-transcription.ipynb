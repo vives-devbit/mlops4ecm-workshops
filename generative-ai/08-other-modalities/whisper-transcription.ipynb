{
 "cells": [
  {
   "cell_type": "markdown",
   "id": "c3941330",
   "metadata": {},
   "source": [
    "### 🎙️ Audio-to-Text with Whisper and Gradio\n",
    "\n",
    "In this notebook, you'll use OpenAI's Whisper model to **transcribe speech into text**.\n",
    "\n",
    "You'll build a small app where users can:\n",
    "- 🎤 Record using their **microphone**\n",
    "- 📁 Or **upload an audio file**\n",
    "- 🌐 Choose a **language**\n",
    "- 📝 See the **transcript** in real time"
   ]
  },
  {
   "cell_type": "code",
   "execution_count": null,
   "id": "a4962786",
   "metadata": {},
   "outputs": [],
   "source": [
    "import gradio as gr\n",
    "import whisper\n",
    "\n",
    "# Load Whisper model (base is good balance of speed/quality)\n",
    "model = whisper.load_model(\"base\")\n",
    "\n",
    "# Define supported languages for dropdown\n",
    "LANGUAGES = {\n",
    "    \"English\": \"en\",\n",
    "    \"Dutch (Nederlands)\": \"nl\",\n",
    "    \"French (Français)\": \"fr\",\n",
    "    \"German (Deutsch)\": \"de\",\n",
    "    \"Spanish (Español)\": \"es\",\n",
    "    \"Filipino (Tagalog)\": \"fil\"\n",
    "}\n",
    "\n",
    "# Transcription function\n",
    "def transcribe(audio, language):\n",
    "    if audio is None:\n",
    "        return \"Please record or upload an audio clip.\"\n",
    "    \n",
    "    # Transcribe using selected language\n",
    "    result = model.transcribe(audio, language=language)\n",
    "    return result[\"text\"]\n",
    "\n",
    "# Launch Gradio app\n",
    "gr.Interface(\n",
    "    fn=transcribe,\n",
    "    inputs=[\n",
    "        gr.Audio(type=\"filepath\", label=\"🎤 Record or upload audio\"),\n",
    "        gr.Dropdown(choices=list(LANGUAGES.keys()), value=\"English\", label=\"🌍 Language\")\n",
    "    ],\n",
    "    outputs=gr.Textbox(label=\"📝 Transcribed Text\"),\n",
    "    title=\"Whisper Audio Transcription\",\n",
    "    description=\"Use your mic or upload an audio file to transcribe your voice using Whisper.\"\n",
    ").launch(server_name=\"0.0.0.0\", server_port=8080, share=True)"
   ]
  }
 ],
 "metadata": {
  "kernelspec": {
   "display_name": ".venv",
   "language": "python",
   "name": "python3"
  },
  "language_info": {
   "codemirror_mode": {
    "name": "ipython",
    "version": 3
   },
   "file_extension": ".py",
   "mimetype": "text/x-python",
   "name": "python",
   "nbconvert_exporter": "python",
   "pygments_lexer": "ipython3",
   "version": "3.11.2"
  }
 },
 "nbformat": 4,
 "nbformat_minor": 5
}
