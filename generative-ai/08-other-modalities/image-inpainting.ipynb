{
 "cells": [
  {
   "cell_type": "markdown",
   "id": "6b19f118",
   "metadata": {},
   "source": [
    "# 🎨 Image Inpainting with Stable Diffusion 3.5 Medium\n",
    "\n",
    "In this notebook, you'll launch a simple Gradio app that performs **image inpainting** using a powerful text-to-image model.  \n",
    "You can **upload or draw on an image**, mark the area you want to modify using a **mask**, and describe what should appear there in natural language.\n",
    "\n",
    "The app will use **Stable Diffusion 3.5 Medium** to fill in the masked region based on your prompt."
   ]
  },
  {
   "cell_type": "code",
   "execution_count": null,
   "id": "4b92cc21",
   "metadata": {},
   "outputs": [],
   "source": [
    "import torch\n",
    "from diffusers import StableDiffusionInpaintPipeline\n",
    "from PIL import Image\n",
    "import gradio as gr\n",
    "\n",
    "# Load SD2 inpainting\n",
    "pipe = StableDiffusionInpaintPipeline.from_pretrained(\n",
    "    \"stabilityai/stable-diffusion-2-inpainting\",\n",
    "    torch_dtype=torch.float16\n",
    ").to(\"cuda\")\n",
    "pipe.enable_attention_slicing()\n",
    "\n",
    "def inpaint(edited: dict, prompt: str):\n",
    "    if not edited or not prompt.strip():\n",
    "        return None\n",
    "\n",
    "    bg: Image.Image = edited[\"background\"]\n",
    "    layers = edited[\"layers\"]\n",
    "    if bg is None or not layers:\n",
    "        return None\n",
    "\n",
    "    image = bg.convert(\"RGB\").resize((512, 512))\n",
    "\n",
    "    # Get the first layer’s alpha channel\n",
    "    alpha = layers[0].getchannel(\"A\").resize((512, 512))\n",
    "    mask = alpha.point(lambda p: 255 if p > 0 else 0)  # white where painted\n",
    "\n",
    "    image.show()\n",
    "    mask.show()\n",
    "\n",
    "    result = pipe(prompt=prompt, image=image, mask_image=mask).images[0]\n",
    "    return result\n",
    "\n",
    "gr.Interface(\n",
    "    fn=inpaint,\n",
    "    inputs=[\n",
    "        gr.ImageEditor(label=\"Upload image & draw mask\",\n",
    "                       image_mode=\"RGBA\", type=\"pil\"),\n",
    "        gr.Textbox(label=\"Prompt\")\n",
    "    ],\n",
    "    outputs=gr.Image(label=\"Inpainted\"),\n",
    "    title=\"Stable Diffusion 2 Inpainting\",\n",
    "    description=\"Draw on the image, enter a prompt, and inpaint.\"\n",
    ").launch(server_name=\"0.0.0.0\", server_port=8080)"
   ]
  }
 ],
 "metadata": {
  "kernelspec": {
   "display_name": ".venv",
   "language": "python",
   "name": "python3"
  },
  "language_info": {
   "codemirror_mode": {
    "name": "ipython",
    "version": 3
   },
   "file_extension": ".py",
   "mimetype": "text/x-python",
   "name": "python",
   "nbconvert_exporter": "python",
   "pygments_lexer": "ipython3",
   "version": "3.11.2"
  }
 },
 "nbformat": 4,
 "nbformat_minor": 5
}
