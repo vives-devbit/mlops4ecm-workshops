{
 "cells": [
  {
   "cell_type": "markdown",
   "id": "d239125c",
   "metadata": {},
   "source": [
    "# 🧙 Lab 2 – Turn Your LLM into a Storyteller\n",
    "\n",
    "In this lab, you'll experiment with **system prompts**, which allow you to define the *role* or *behavior* of a language model before it starts generating text. A **system prompt** is like setting the scene or giving the model a personality.\n",
    "\n",
    "You'll also write your own **user prompt** — the actual input that starts the conversation. This is where your creative idea goes!\n",
    "\n",
    "👉 **Goal:** Teach the model to become a storytelling assistant and generate rich, imaginative narratives.\n",
    "\n",
    "- The **system prompt** has already been defined for you.\n",
    "- You will need to enter your own **user prompt** below.  \n",
    "  (Think of a story idea — like *\"A fox who learns to fly\"* or *\"A time traveler trapped in a library.\"*)\n",
    "\n",
    "Run the cell and see what kind of story the model comes up with!"
   ]
  },
  {
   "cell_type": "code",
   "execution_count": null,
   "id": "fa9e264c",
   "metadata": {},
   "outputs": [],
   "source": [
    "from IPython.display import display, Markdown\n",
    "import ollama\n",
    "\n",
    "# System prompt defines the role of the model\n",
    "system_prompt = \"You are a storyteller. Always reply with stories full of imagination.\"\n",
    "\n",
    "# TODO: Enter your own creative story idea here!\n",
    "user_prompt = \"\"  # ← Fill this in\n",
    "\n",
    "assert user_prompt != \"\"\n",
    "\n",
    "# Generate a response using Ollama\n",
    "response = ollama.chat(\n",
    "    model='gemma3:4b-it-qat',\n",
    "    messages=[\n",
    "        {'role': 'system', 'content': system_prompt},\n",
    "        {'role': 'user', 'content': user_prompt}\n",
    "    ]\n",
    ")\n",
    "\n",
    "# Show the model's story\n",
    "display(Markdown(response['message']['content']))"
   ]
  }
 ],
 "metadata": {
  "kernelspec": {
   "display_name": ".venv",
   "language": "python",
   "name": "python3"
  },
  "language_info": {
   "codemirror_mode": {
    "name": "ipython",
    "version": 3
   },
   "file_extension": ".py",
   "mimetype": "text/x-python",
   "name": "python",
   "nbconvert_exporter": "python",
   "pygments_lexer": "ipython3",
   "version": "3.11.2"
  }
 },
 "nbformat": 4,
 "nbformat_minor": 5
}
