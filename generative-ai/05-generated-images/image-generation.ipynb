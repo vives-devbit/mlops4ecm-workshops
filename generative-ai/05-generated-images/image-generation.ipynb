{
 "cells": [
  {
   "cell_type": "markdown",
   "id": "9aa81b1e",
   "metadata": {},
   "source": [
    "## 📸 **Lab 5 – Part 1: Generate Images from Text Prompts**\n",
    "\n",
    "In this notebook, you'll experiment with **diffusion models** to generate images from text prompts.\n",
    "\n",
    "You'll start by generating a **single image** with bad defaults — your task is to find better values. Then you'll compare different outputs in a **full grid**.\n",
    "\n",
    "### 🔁 Step 1: Load the Model"
   ]
  },
  {
   "cell_type": "code",
   "execution_count": null,
   "id": "3d33f877",
   "metadata": {},
   "outputs": [],
   "source": [
    "from diffusers import StableDiffusion3Pipeline\n",
    "import torch\n",
    "import matplotlib.pyplot as plt\n",
    "\n",
    "pipe = StableDiffusion3Pipeline.from_pretrained(\n",
    "    \"ckpt/stable-diffusion-3.5-medium\",\n",
    "    torch_dtype=torch.bfloat16\n",
    ").to(\"cuda\")"
   ]
  },
  {
   "cell_type": "markdown",
   "id": "c8578c0e",
   "metadata": {},
   "source": [
    "### 🧪 Step 2: Your Turn — Generate a Single Image\n",
    "\n",
    "This cell generates **one image** using a poor combination of parameters.\n",
    "\n",
    "🔧 **TODO:** Try different values for `steps` and `scale` to improve the quality!"
   ]
  },
  {
   "cell_type": "code",
   "execution_count": null,
   "id": "ba83a22f",
   "metadata": {},
   "outputs": [],
   "source": [
    "# TODO: Write your own text-to-image prompt\n",
    "prompt = \"\"\n",
    "\n",
    "assert prompt != \"\"\n",
    "\n",
    "# 🛠️ TODO: Try changing these values!\n",
    "steps = 0\n",
    "scale = 0\n",
    "\n",
    "assert steps > 0\n",
    "assert scale > 0\n",
    "\n",
    "print(f\"Generating image with steps={steps}, scale={scale}\")\n",
    "image = pipe(\n",
    "    prompt=prompt,\n",
    "    num_inference_steps=steps,\n",
    "    guidance_scale=scale,\n",
    "    width=512,\n",
    "    height=512\n",
    ").images[0]\n",
    "\n",
    "# Show the result\n",
    "plt.imshow(image)\n",
    "plt.axis(\"off\")\n",
    "plt.title(f\"Steps: {steps}, Scale: {scale}\")\n",
    "plt.show()\n",
    "\n",
    "# Optional: Save to file\n",
    "# image.save(f\"my-generated-image.png\")"
   ]
  },
  {
   "cell_type": "markdown",
   "id": "6965041c",
   "metadata": {},
   "source": [
    "### 🔍 Step 3: Compare Many Combinations (Reference Grid)\n",
    "\n",
    "This cell runs a larger loop to show how different `steps` and `scale` settings affect the result.\n",
    "💡 Use this for inspiration after trying your own."
   ]
  },
  {
   "cell_type": "code",
   "execution_count": null,
   "id": "07fefea0",
   "metadata": {},
   "outputs": [],
   "source": [
    "steps_list = [5, 10, 20, 40]\n",
    "scale_list = [1, 2, 5, 10, 20]\n",
    "\n",
    "fig, axs = plt.subplots(len(steps_list), len(scale_list), figsize=(12, 10))\n",
    "fig.suptitle(\"Generated Images (rows: steps, cols: scale)\", fontsize=14)\n",
    "\n",
    "for i, steps in enumerate(steps_list):\n",
    "    for j, scale in enumerate(scale_list):\n",
    "        print(f\"Generating image with steps={steps}, scale={scale}\")\n",
    "        image = pipe(\n",
    "            prompt=prompt,\n",
    "            num_inference_steps=steps,\n",
    "            guidance_scale=scale,\n",
    "            width=256,\n",
    "            height=256\n",
    "        ).images[0]\n",
    "\n",
    "        axs[i, j].imshow(image)\n",
    "        axs[i, j].axis(\"off\")\n",
    "        axs[i, j].set_title(f\"Steps: {steps}\\nScale: {scale}\", fontsize=8)\n",
    "\n",
    "        # Optional: Save to file\n",
    "        # image.save(f\"image-steps-{steps}-scale-{scale}.png\")\n",
    "\n",
    "plt.tight_layout()\n",
    "plt.subplots_adjust(top=0.9)\n",
    "plt.show()"
   ]
  }
 ],
 "metadata": {
  "kernelspec": {
   "display_name": ".venv",
   "language": "python",
   "name": "python3"
  },
  "language_info": {
   "codemirror_mode": {
    "name": "ipython",
    "version": 3
   },
   "file_extension": ".py",
   "mimetype": "text/x-python",
   "name": "python",
   "nbconvert_exporter": "python",
   "pygments_lexer": "ipython3",
   "version": "3.11.2"
  }
 },
 "nbformat": 4,
 "nbformat_minor": 5
}
