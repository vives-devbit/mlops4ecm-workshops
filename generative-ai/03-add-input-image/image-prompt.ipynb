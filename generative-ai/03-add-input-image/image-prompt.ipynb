{
 "cells": [
  {
   "cell_type": "markdown",
   "id": "9361070b",
   "metadata": {},
   "source": [
    "# 🖼️ Lab 3 (Part 1) – Passing an Image to a Large Language Model\n",
    "\n",
    "In this lab, you'll experiment with **vision-capable large language models** — models that can understand both text and images as input.\n",
    "\n",
    "We'll give the model a sample image, and your task is to write a prompt that tells the model what to do with it. For example:\n",
    "\n",
    "- Describe what's in the image\n",
    "- Classify the image (e.g. outdoor/indoor, nature/city)\n",
    "- Detect certain objects (e.g. cars, people, trees, cats)\n",
    "- Ask the model to find something unusual or specific\n",
    "\n",
    "👉 Try out different prompts and see how the model responds!\n",
    "\n",
    "**Note**: Make sure the sample image file (e.g. `image.jpg`) exists in the same folder as this notebook."
   ]
  },
  {
   "cell_type": "code",
   "execution_count": null,
   "id": "41388fc2",
   "metadata": {},
   "outputs": [],
   "source": [
    "from IPython.display import display, Markdown\n",
    "import ollama\n",
    "\n",
    "# Set the path to your image file\n",
    "path_to_image = \"image.jpg\"  # ← Make sure this image exists in the folder\n",
    "\n",
    "# ✍️ TODO: Write your own prompt that tells the model what to do with the image\n",
    "user_prompt = \"\"\n",
    "\n",
    "assert user_prompt != \"\"\n",
    "\n",
    "# Send the image and prompt to the model\n",
    "response = ollama.chat(\n",
    "    model='gemma3:4b-it-qat',\n",
    "    messages=[\n",
    "        {\n",
    "            'role': 'user',\n",
    "            'content': user_prompt,\n",
    "            'images': [path_to_image]\n",
    "        }\n",
    "    ]\n",
    ")\n",
    "\n",
    "# Display the model's response\n",
    "display(Markdown(response['message']['content']))"
   ]
  }
 ],
 "metadata": {
  "kernelspec": {
   "display_name": ".venv",
   "language": "python",
   "name": "python3"
  },
  "language_info": {
   "codemirror_mode": {
    "name": "ipython",
    "version": 3
   },
   "file_extension": ".py",
   "mimetype": "text/x-python",
   "name": "python",
   "nbconvert_exporter": "python",
   "pygments_lexer": "ipython3",
   "version": "3.11.2"
  }
 },
 "nbformat": 4,
 "nbformat_minor": 5
}
