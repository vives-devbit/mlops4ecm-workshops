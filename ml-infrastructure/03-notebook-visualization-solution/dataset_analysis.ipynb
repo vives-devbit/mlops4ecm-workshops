{
 "cells": [
  {
   "cell_type": "markdown",
   "id": "b4aef326",
   "metadata": {},
   "source": [
    "# 🧮 Class Distribution Analysis\n",
    "\n",
    "In this notebook, we'll analyze the **class distribution** in the training dataset. We'll count how many samples exist for each class and visualize the results to spot potential imbalances."
   ]
  },
  {
   "cell_type": "code",
   "execution_count": null,
   "id": "01a1c7e8",
   "metadata": {},
   "outputs": [],
   "source": [
    "from data_utils import GroceryDataset, get_classes, TRAIN_CSV\n",
    "import matplotlib.pyplot as plt\n",
    "import pandas as pd\n",
    "from collections import Counter"
   ]
  },
  {
   "cell_type": "markdown",
   "id": "88adb960",
   "metadata": {},
   "source": [
    "📂 Load dataset and class label mapping"
   ]
  },
  {
   "cell_type": "code",
   "execution_count": null,
   "id": "6956e292",
   "metadata": {},
   "outputs": [],
   "source": [
    "# Load class names: dict of int → string\n",
    "class_names = get_classes()\n",
    "\n",
    "# Load training data\n",
    "dataset = GroceryDataset(csv_file=TRAIN_CSV)"
   ]
  },
  {
   "cell_type": "markdown",
   "id": "f5f42314",
   "metadata": {
    "vscode": {
     "languageId": "plaintext"
    }
   },
   "source": [
    "📊 Count number of samples per class"
   ]
  },
  {
   "cell_type": "code",
   "execution_count": null,
   "id": "379ea974",
   "metadata": {},
   "outputs": [],
   "source": [
    "# Get all labels\n",
    "labels = [dataset[i][1] for i in range(len(dataset))]\n",
    "\n",
    "# Count class occurrences\n",
    "label_counts = Counter(labels)\n",
    "\n",
    "# Create two lists: class names and corresponding counts\n",
    "class_ids = sorted(label_counts.keys())\n",
    "counts = [label_counts[class_id] for class_id in class_ids]\n",
    "names = [class_names[class_id] for class_id in class_ids]"
   ]
  },
  {
   "cell_type": "markdown",
   "id": "2a2e323b",
   "metadata": {},
   "source": [
    "📈 Plot class distribution as bar chart"
   ]
  },
  {
   "cell_type": "code",
   "execution_count": null,
   "id": "bb8a4a46",
   "metadata": {},
   "outputs": [],
   "source": [
    "plt.figure(figsize=(12, 6))\n",
    "plt.bar(names, counts)\n",
    "plt.xticks(rotation=45, ha='right')\n",
    "plt.title(\"Class Distribution in Training Set\")\n",
    "plt.xlabel(\"Class\")\n",
    "plt.ylabel(\"Number of Samples\")\n",
    "plt.tight_layout()\n",
    "plt.show()"
   ]
  }
 ],
 "metadata": {
  "kernelspec": {
   "display_name": ".venv",
   "language": "python",
   "name": "python3"
  },
  "language_info": {
   "codemirror_mode": {
    "name": "ipython",
    "version": 3
   },
   "file_extension": ".py",
   "mimetype": "text/x-python",
   "name": "python",
   "nbconvert_exporter": "python",
   "pygments_lexer": "ipython3",
   "version": "3.11.2"
  }
 },
 "nbformat": 4,
 "nbformat_minor": 5
}
