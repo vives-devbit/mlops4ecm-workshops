{
 "cells": [
  {
   "cell_type": "markdown",
   "id": "a198d99b",
   "metadata": {},
   "source": [
    "### 🧠 Interactive Prediction Explorer with Gradio\n",
    "\n",
    "In this notebook, you can **explore how your trained image classifier behaves** on real validation images — interactively.\n",
    "\n",
    "Use the dropdown to select a class (e.g. apple, kiwi, tomato). The model will then:\n",
    "\n",
    "* Randomly sample 5 images from that class,\n",
    "* Run predictions using your trained MobileNetV3 model,\n",
    "* Display the images along with predicted labels.\n",
    "\n",
    "This is a lightweight visual tool to **understand model behavior** and **spot patterns or mistakes** — especially useful when debugging, presenting results, or doing ad-hoc testing."
   ]
  },
  {
   "cell_type": "code",
   "execution_count": null,
   "id": "716470d0",
   "metadata": {},
   "outputs": [],
   "source": [
    "import gradio as gr\n",
    "from data_utils import get_classes, GroceryDataset, transform, VAL_CSV\n",
    "from model_utils import load_model, DEVICE\n",
    "import torch\n",
    "import random\n",
    "import matplotlib.pyplot as plt\n",
    "\n",
    "# Load class labels and model\n",
    "classes = get_classes()\n",
    "model = load_model(num_classes=len(classes))\n",
    "model.eval()\n",
    "\n",
    "# Load validation dataset\n",
    "dataset = GroceryDataset(csv_file=VAL_CSV, transform=transform)\n",
    "images_by_class = {} # dict(class_name => list(images))\n",
    "for image, label in dataset:\n",
    "    class_name = classes[label]\n",
    "    if class_name not in images_by_class:\n",
    "        images_by_class[class_name] = []\n",
    "    images_by_class[class_name].append(image)\n",
    "\n",
    "# Helper to get N images of a certain class\n",
    "def get_random_images(class_name, n=5):\n",
    "    matching = images_by_class[class_name]\n",
    "    return random.sample(matching, min(n, len(matching)))\n",
    "\n",
    "# Inference function\n",
    "def predict(class_name):\n",
    "    images = get_random_images(class_name, n=5)\n",
    "    outputs = model(torch.stack(images).to(DEVICE))\n",
    "    _, preds = torch.max(outputs, 1)\n",
    "    preds = preds.cpu().numpy()\n",
    "\n",
    "    fig, axs = plt.subplots(1, len(images), figsize=(15, 3))\n",
    "    for i, ax in enumerate(axs):\n",
    "        img = images[i].permute(1, 2, 0).numpy()\n",
    "        img = img * [0.229, 0.224, 0.225] + [0.485, 0.456, 0.406]  # unnormalize\n",
    "        img = img.clip(0, 1)\n",
    "        ax.imshow(img)\n",
    "        ax.axis(\"off\")\n",
    "        ax.set_title(f\"Pred: {classes[preds[i]]}\")\n",
    "    return fig\n",
    "\n",
    "# Launch Gradio inside notebook\n",
    "with gr.Blocks() as demo:\n",
    "    gr.Markdown(\"### 🛒 Grocery Classifier Explorer\")\n",
    "    class_dropdown = gr.Dropdown(choices=list(classes.values()), label=\"Select a class\")\n",
    "    output_plot = gr.Plot()\n",
    "    run_btn = gr.Button(\"Show predictions\")\n",
    "    run_btn.click(fn=predict, inputs=class_dropdown, outputs=output_plot)\n",
    "\n",
    "demo.launch(inline=True)\n"
   ]
  }
 ],
 "metadata": {
  "kernelspec": {
   "display_name": ".venv",
   "language": "python",
   "name": "python3"
  },
  "language_info": {
   "codemirror_mode": {
    "name": "ipython",
    "version": 3
   },
   "file_extension": ".py",
   "mimetype": "text/x-python",
   "name": "python",
   "nbconvert_exporter": "python",
   "pygments_lexer": "ipython3",
   "version": "3.11.2"
  }
 },
 "nbformat": 4,
 "nbformat_minor": 5
}
