{
 "cells": [
  {
   "cell_type": "markdown",
   "id": "619b5703",
   "metadata": {},
   "source": [
    "# 🛒 Grocery Store – Training an Image Classifier\n",
    "\n",
    "In this notebook, we’ll build and train a simple image classification model to recognize grocery items from photos. The dataset contains labeled images of various food products, each assigned to a coarse category like \"vegetables\", \"dairy\", or \"snacks\".\n",
    "\n",
    "We’ll walk through a full training workflow, including:\n",
    "\n",
    "- Loading and preprocessing image data\n",
    "- Defining a PyTorch dataset and data loaders\n",
    "- Fine-tuning a pretrained MobileNet model\n",
    "- Evaluating the model's performance on a validation set\n",
    "- Visualizing sample predictions with images\n",
    "\n",
    "By the end, you'll have a basic image classifier running locally, ready to be served or deployed in later steps of the workshop."
   ]
  },
  {
   "cell_type": "code",
   "execution_count": null,
   "id": "a3cf164d",
   "metadata": {},
   "outputs": [],
   "source": [
    "from data_utils import *\n",
    "from model_utils import *\n",
    "from train_utils import *\n",
    "\n",
    "# Get class names and dataloaders\n",
    "classes = get_classes()\n",
    "train_loader, val_loader = get_loaders()\n",
    "\n",
    "# Create a model and train it\n",
    "model = create_model(len(classes))\n",
    "train_model(model, train_loader)\n",
    "\n",
    "# Evaluate model accuracy\n",
    "accuracy = evaluate_model(model, val_loader)\n",
    "print(f\"\\nValidation Accuracy: {accuracy:.2%}\")"
   ]
  },
  {
   "cell_type": "markdown",
   "id": "be8b97f9",
   "metadata": {},
   "source": [
    "**🖼️ Visualizing Predictions**\n",
    "\n",
    "To better understand the model's behavior, we display **10 sample predictions** from the validation set. For each image, we show the predicted and true class names. The pixel values are unnormalized for display so the images look natural. This kind of qualitative inspection is useful for spotting obvious misclassifications or biases in the model."
   ]
  },
  {
   "cell_type": "code",
   "execution_count": null,
   "id": "ca81d0bb",
   "metadata": {},
   "outputs": [],
   "source": [
    "import matplotlib.pyplot as plt\n",
    "\n",
    "# Show predictions with images\n",
    "print(\"\\nSample predictions with images:\")\n",
    "fig, axes = plt.subplots(2, 5, figsize=(15, 6))\n",
    "axes = axes.flatten()\n",
    "\n",
    "# Get 10 images, predictions, and labels again for visualization\n",
    "shown = 0\n",
    "for images, labels in val_loader:\n",
    "    images_cpu = images.cpu()\n",
    "    outputs = model(images.to(DEVICE))\n",
    "    _, predicted = torch.max(outputs, 1)\n",
    "    predicted = predicted.cpu()\n",
    "\n",
    "    for i in range(images.size(0)):\n",
    "        if shown >= 10:\n",
    "            break\n",
    "        img = images_cpu[i].permute(1, 2, 0).numpy()\n",
    "        img = img * [0.229, 0.224, 0.225] + [0.485, 0.456, 0.406]  # unnormalize\n",
    "        img = img.clip(0, 1)\n",
    "\n",
    "        axes[shown].imshow(img)\n",
    "        axes[shown].axis(\"off\")\n",
    "        axes[shown].set_title(f\"Predict: {classes[predicted[i].item()]}\\nTrue label: {classes[labels[i].item()]}\")\n",
    "        shown += 1\n",
    "\n",
    "    if shown >= 10:\n",
    "        break\n",
    "\n",
    "plt.tight_layout()\n",
    "plt.show()"
   ]
  }
 ],
 "metadata": {
  "kernelspec": {
   "display_name": ".venv",
   "language": "python",
   "name": "python3"
  },
  "language_info": {
   "codemirror_mode": {
    "name": "ipython",
    "version": 3
   },
   "file_extension": ".py",
   "mimetype": "text/x-python",
   "name": "python",
   "nbconvert_exporter": "python",
   "pygments_lexer": "ipython3",
   "version": "3.11.2"
  }
 },
 "nbformat": 4,
 "nbformat_minor": 5
}
